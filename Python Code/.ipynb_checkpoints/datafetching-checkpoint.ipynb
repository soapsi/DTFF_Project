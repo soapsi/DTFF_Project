{
 "cells": [
  {
   "cell_type": "code",
   "execution_count": 26,
   "metadata": {},
   "outputs": [],
   "source": [
    "import quandl\n",
    "import pandas as pd\n"
   ]
  },
  {
   "cell_type": "code",
   "execution_count": 18,
   "metadata": {},
   "outputs": [],
   "source": [
    "\n",
    "quandl.ApiConfig.api_key = \"iH2PrFJwVREZoY9TdYgE\""
   ]
  },
  {
   "cell_type": "code",
   "execution_count": 19,
   "metadata": {},
   "outputs": [],
   "source": [
    "upstream_data = quandl.get(\"FSE/EON_X\")"
   ]
  },
  {
   "cell_type": "code",
   "execution_count": 20,
   "metadata": {},
   "outputs": [],
   "source": [
    "logic = {'Open'  : 'first',\n",
    "         'High'  : 'max',\n",
    "         'Low'   : 'min',\n",
    "         'Close' : 'last',\n",
    "         'Traded Volume': 'sum'}\n",
    "\n",
    "offset = pd.offsets.timedelta(days=-6)\n"
   ]
  },
  {
   "cell_type": "code",
   "execution_count": 21,
   "metadata": {},
   "outputs": [],
   "source": [
    "weekly_data = upstream_data.resample('W', loffset=offset).apply(logic)"
   ]
  },
  {
   "cell_type": "code",
   "execution_count": 22,
   "metadata": {},
   "outputs": [
    {
     "data": {
      "text/html": [
       "<div>\n",
       "<style scoped>\n",
       "    .dataframe tbody tr th:only-of-type {\n",
       "        vertical-align: middle;\n",
       "    }\n",
       "\n",
       "    .dataframe tbody tr th {\n",
       "        vertical-align: top;\n",
       "    }\n",
       "\n",
       "    .dataframe thead th {\n",
       "        text-align: right;\n",
       "    }\n",
       "</style>\n",
       "<table border=\"1\" class=\"dataframe\">\n",
       "  <thead>\n",
       "    <tr style=\"text-align: right;\">\n",
       "      <th></th>\n",
       "      <th>Open</th>\n",
       "      <th>High</th>\n",
       "      <th>Low</th>\n",
       "      <th>Close</th>\n",
       "      <th>Traded Volume</th>\n",
       "    </tr>\n",
       "    <tr>\n",
       "      <th>Date</th>\n",
       "      <th></th>\n",
       "      <th></th>\n",
       "      <th></th>\n",
       "      <th></th>\n",
       "      <th></th>\n",
       "    </tr>\n",
       "  </thead>\n",
       "  <tbody>\n",
       "    <tr>\n",
       "      <th>2003-01-20</th>\n",
       "      <td>41.550</td>\n",
       "      <td>42.020</td>\n",
       "      <td>36.660</td>\n",
       "      <td>36.930</td>\n",
       "      <td>19380691.0</td>\n",
       "    </tr>\n",
       "    <tr>\n",
       "      <th>2003-01-27</th>\n",
       "      <td>37.500</td>\n",
       "      <td>42.500</td>\n",
       "      <td>36.400</td>\n",
       "      <td>42.250</td>\n",
       "      <td>38349142.0</td>\n",
       "    </tr>\n",
       "    <tr>\n",
       "      <th>2003-02-03</th>\n",
       "      <td>42.500</td>\n",
       "      <td>42.590</td>\n",
       "      <td>36.810</td>\n",
       "      <td>37.210</td>\n",
       "      <td>20496042.0</td>\n",
       "    </tr>\n",
       "    <tr>\n",
       "      <th>2003-02-10</th>\n",
       "      <td>37.500</td>\n",
       "      <td>39.190</td>\n",
       "      <td>35.700</td>\n",
       "      <td>38.600</td>\n",
       "      <td>17490297.0</td>\n",
       "    </tr>\n",
       "    <tr>\n",
       "      <th>2003-02-17</th>\n",
       "      <td>38.850</td>\n",
       "      <td>38.850</td>\n",
       "      <td>36.320</td>\n",
       "      <td>38.800</td>\n",
       "      <td>15554466.0</td>\n",
       "    </tr>\n",
       "    <tr>\n",
       "      <th>...</th>\n",
       "      <td>...</td>\n",
       "      <td>...</td>\n",
       "      <td>...</td>\n",
       "      <td>...</td>\n",
       "      <td>...</td>\n",
       "    </tr>\n",
       "    <tr>\n",
       "      <th>2020-10-05</th>\n",
       "      <td>9.764</td>\n",
       "      <td>9.842</td>\n",
       "      <td>9.676</td>\n",
       "      <td>9.750</td>\n",
       "      <td>74971.0</td>\n",
       "    </tr>\n",
       "    <tr>\n",
       "      <th>2020-10-12</th>\n",
       "      <td>9.758</td>\n",
       "      <td>9.824</td>\n",
       "      <td>9.518</td>\n",
       "      <td>9.730</td>\n",
       "      <td>51980.0</td>\n",
       "    </tr>\n",
       "    <tr>\n",
       "      <th>2020-10-19</th>\n",
       "      <td>9.722</td>\n",
       "      <td>9.832</td>\n",
       "      <td>9.330</td>\n",
       "      <td>9.500</td>\n",
       "      <td>66940.0</td>\n",
       "    </tr>\n",
       "    <tr>\n",
       "      <th>2020-10-26</th>\n",
       "      <td>9.472</td>\n",
       "      <td>9.536</td>\n",
       "      <td>8.738</td>\n",
       "      <td>8.962</td>\n",
       "      <td>286746.0</td>\n",
       "    </tr>\n",
       "    <tr>\n",
       "      <th>2020-11-02</th>\n",
       "      <td>8.958</td>\n",
       "      <td>9.476</td>\n",
       "      <td>8.890</td>\n",
       "      <td>9.210</td>\n",
       "      <td>63816.0</td>\n",
       "    </tr>\n",
       "  </tbody>\n",
       "</table>\n",
       "<p>929 rows × 5 columns</p>\n",
       "</div>"
      ],
      "text/plain": [
       "              Open    High     Low   Close  Traded Volume\n",
       "Date                                                     \n",
       "2003-01-20  41.550  42.020  36.660  36.930     19380691.0\n",
       "2003-01-27  37.500  42.500  36.400  42.250     38349142.0\n",
       "2003-02-03  42.500  42.590  36.810  37.210     20496042.0\n",
       "2003-02-10  37.500  39.190  35.700  38.600     17490297.0\n",
       "2003-02-17  38.850  38.850  36.320  38.800     15554466.0\n",
       "...            ...     ...     ...     ...            ...\n",
       "2020-10-05   9.764   9.842   9.676   9.750        74971.0\n",
       "2020-10-12   9.758   9.824   9.518   9.730        51980.0\n",
       "2020-10-19   9.722   9.832   9.330   9.500        66940.0\n",
       "2020-10-26   9.472   9.536   8.738   8.962       286746.0\n",
       "2020-11-02   8.958   9.476   8.890   9.210        63816.0\n",
       "\n",
       "[929 rows x 5 columns]"
      ]
     },
     "execution_count": 22,
     "metadata": {},
     "output_type": "execute_result"
    }
   ],
   "source": [
    "weekly_data"
   ]
  },
  {
   "cell_type": "code",
   "execution_count": 27,
   "metadata": {},
   "outputs": [],
   "source": [
    "# import needed package\n",
    "import matplotlib.pyplot as plt\n",
    "%matplotlib inline"
   ]
  },
  {
   "cell_type": "code",
   "execution_count": 28,
   "metadata": {},
   "outputs": [
    {
     "data": {
      "text/plain": [
       "Text(0.5, 0, 'Date')"
      ]
     },
     "execution_count": 28,
     "metadata": {},
     "output_type": "execute_result"
    },
    {
     "data": {
      "image/png": "[encoded data removed]",
      "text/plain": [
       "<Figure size 864x576 with 1 Axes>"
      ]
     },
     "metadata": {
      "needs_background": "light"
     },
     "output_type": "display_data"
    }
   ],
   "source": [
    "# create a plot with given data that we can use for our project\n",
    "plt.figure(figsize=(12,8))\n",
    "weekly_data['Close'].plot(label=\"E.on\")\n",
    "plt.legend(loc=\"best\")\n",
    "plt.suptitle(\"Closing stock price for E.on from Frankfurt Stock Exchange\", fontsize=14)\n",
    "plt.ylabel(\"Closing Price\", fontsize=13)\n",
    "plt.xlabel(\"Date\", fontsize=13)"
   ]
  },
  {
   "cell_type": "code",
   "execution_count": null,
   "metadata": {},
   "outputs": [],
   "source": []
  }
 ],
 "metadata": {
  "kernelspec": {
   "display_name": "Python 3",
   "language": "python",
   "name": "python3"
  },
  "language_info": {
   "codemirror_mode": {
    "name": "ipython",
    "version": 3
   },
   "file_extension": ".py",
   "mimetype": "text/x-python",
   "name": "python",
   "nbconvert_exporter": "python",
   "pygments_lexer": "ipython3",
   "version": "3.8.3"
  }
 },
 "nbformat": 4,
 "nbformat_minor": 4
}
