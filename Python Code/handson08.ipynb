{
 "cells": [
  {
   "cell_type": "code",
   "execution_count": 1,
   "metadata": {},
   "outputs": [
    {
     "name": "stderr",
     "output_type": "stream",
     "text": [
      "<frozen importlib._bootstrap>:219: RuntimeWarning: numpy.ufunc size changed, may indicate binary incompatibility. Expected 192 from C header, got 216 from PyObject\n",
      "<frozen importlib._bootstrap>:219: RuntimeWarning: numpy.ufunc size changed, may indicate binary incompatibility. Expected 192 from C header, got 216 from PyObject\n"
     ]
    }
   ],
   "source": [
    "import networkx as nx\n",
    "import numpy as np\n",
    "import matplotlib.pyplot as plt\n",
    "\n",
    "%matplotlib inline"
   ]
  },
  {
   "cell_type": "code",
   "execution_count": 3,
   "metadata": {},
   "outputs": [],
   "source": [
    "def dyn_SIS(g,seed,maxTime,beta,mu): # g=graph, seed=actual node wher you start, maxTime=end of simulation, beta=transmittion rate (time plays role), mu=recovery rate\n",
    "    \n",
    "    susceptible = 0\n",
    "    infected = 1\n",
    "    recovered =\"\"  # new need this for SIR -> not sure as the nodes need to be removed\n",
    "    \n",
    "    for i in g.nodes():\n",
    "        g.nodes[i]['state'] = susceptible # make all susceptible\n",
    "    g.nodes[seed]['state'] = infected  # choose node that is infected\n",
    "    \n",
    "    for t in np.arange(maxTime): # loop over time 0-100\n",
    "\n",
    "        for i in g.nodes():\n",
    "            if g.nodes[i]['state'] == infected: # check if infected\n",
    "                for j in g.neighbors(i):\n",
    "                    if g.nodes[j]['state'] == susceptible:\n",
    "                        if np.random.rand() < beta: # take random number and if smaller as beta you infect\n",
    "                            g.nodes[j]['state'] = infected\n",
    "                if np.random.rand() < mu: # this must be changed to recovered!!! somehow remove nodes\n",
    "                    g.nodes[i]['state'] = susceptible\n",
    "                    \n",
    "    inf_list = np.where([g.nodes[i]['state']==infected for i in g.nodes()])[0] # define list of infected nodes\n",
    "    sus_list = np.where([g.nodes[i]['state']==susceptible for i in g.nodes()])[0]\n",
    "    rec_list = np.where([g.nodes[i]['state']==recovered for i in g.nodes()])[0] # new\n",
    "    \n",
    "    return inf_list,sus_list"
   ]
  },
  {
   "cell_type": "code",
   "execution_count": 4,
   "metadata": {},
   "outputs": [],
   "source": [
    "# need to calc the len removed nodes (bc of recovered) "
   ]
  },
  {
   "cell_type": "code",
   "execution_count": 5,
   "metadata": {},
   "outputs": [],
   "source": [
    "N=100\n",
    "G = nx.barabasi_albert_graph(N,1)"
   ]
  },
  {
   "cell_type": "code",
   "execution_count": 6,
   "metadata": {},
   "outputs": [
    {
     "data": {
      "text/plain": [
       "array([0. , 0.1, 0.2, 0.3, 0.4, 0.5, 0.6, 0.7, 0.8, 0.9])"
      ]
     },
     "execution_count": 6,
     "metadata": {},
     "output_type": "execute_result"
    }
   ],
   "source": [
    "rangebeta = np.arange(0,1,0.1)\n",
    "rangebeta"
   ]
  },
  {
   "cell_type": "code",
   "execution_count": 7,
   "metadata": {},
   "outputs": [],
   "source": [
    "mu=1.0"
   ]
  },
  {
   "cell_type": "code",
   "execution_count": 8,
   "metadata": {},
   "outputs": [
    {
     "data": {
      "text/plain": [
       "DegreeView({0: 2, 1: 27, 2: 5, 3: 4, 4: 2, 5: 1, 6: 3, 7: 5, 8: 4, 9: 10, 10: 3, 11: 1, 12: 4, 13: 4, 14: 2, 15: 1, 16: 2, 17: 1, 18: 1, 19: 1, 20: 2, 21: 8, 22: 2, 23: 2, 24: 4, 25: 1, 26: 2, 27: 2, 28: 1, 29: 1, 30: 1, 31: 2, 32: 2, 33: 3, 34: 1, 35: 1, 36: 2, 37: 1, 38: 2, 39: 1, 40: 1, 41: 2, 42: 1, 43: 1, 44: 1, 45: 1, 46: 1, 47: 1, 48: 2, 49: 2, 50: 1, 51: 1, 52: 1, 53: 2, 54: 1, 55: 5, 56: 1, 57: 1, 58: 1, 59: 1, 60: 1, 61: 1, 62: 1, 63: 1, 64: 1, 65: 3, 66: 1, 67: 1, 68: 1, 69: 2, 70: 1, 71: 2, 72: 1, 73: 1, 74: 1, 75: 1, 76: 2, 77: 2, 78: 1, 79: 1, 80: 1, 81: 1, 82: 1, 83: 1, 84: 1, 85: 1, 86: 1, 87: 1, 88: 1, 89: 1, 90: 1, 91: 1, 92: 1, 93: 1, 94: 1, 95: 1, 96: 1, 97: 1, 98: 1, 99: 1})"
      ]
     },
     "execution_count": 8,
     "metadata": {},
     "output_type": "execute_result"
    }
   ],
   "source": [
    "G.degree()"
   ]
  },
  {
   "cell_type": "code",
   "execution_count": 9,
   "metadata": {},
   "outputs": [],
   "source": [
    "rho = []\n",
    "for bb in rangebeta:\n",
    "    il,sl = dyn_SIS(G,0,100,bb,mu)\n",
    "    rho.append(float((len(il))/N))\n",
    "    "
   ]
  },
  {
   "cell_type": "code",
   "execution_count": 10,
   "metadata": {},
   "outputs": [
    {
     "data": {
      "text/plain": [
       "[0.0, 0.0, 0.0, 0.0, 0.04, 0.0, 0.14, 0.25, 0.28, 0.28]"
      ]
     },
     "execution_count": 10,
     "metadata": {},
     "output_type": "execute_result"
    }
   ],
   "source": [
    "rho"
   ]
  },
  {
   "cell_type": "code",
   "execution_count": 2,
   "metadata": {},
   "outputs": [],
   "source": [
    "x = [1, 2, 3 ,4, 5]\n",
    "y = [2, 4 ,6 , 8, 10]"
   ]
  },
  {
   "cell_type": "code",
   "execution_count": 3,
   "metadata": {},
   "outputs": [
    {
     "data": {
      "text/plain": [
       "[<matplotlib.lines.Line2D at 0x23df08c88e0>]"
      ]
     },
     "execution_count": 3,
     "metadata": {},
     "output_type": "execute_result"
    },
    {
     "data": {
      "image/png": "[encoded data removed]",
      "text/plain": [
       "<Figure size 864x576 with 1 Axes>"
      ]
     },
     "metadata": {
      "needs_background": "light"
     },
     "output_type": "display_data"
    }
   ],
   "source": [
    "plt.figure(figsize=(12,8))\n",
    "plt.plot(x, y)"
   ]
  },
  {
   "cell_type": "code",
   "execution_count": null,
   "metadata": {},
   "outputs": [],
   "source": []
  }
 ],
 "metadata": {
  "kernelspec": {
   "display_name": "Python 3",
   "language": "python",
   "name": "python3"
  },
  "language_info": {
   "codemirror_mode": {
    "name": "ipython",
    "version": 3
   },
   "file_extension": ".py",
   "mimetype": "text/x-python",
   "name": "python",
   "nbconvert_exporter": "python",
   "pygments_lexer": "ipython3",
   "version": "3.8.3"
  }
 },
 "nbformat": 4,
 "nbformat_minor": 4
}
