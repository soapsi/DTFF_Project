{
 "cells": [
  {
   "cell_type": "code",
   "execution_count": 1,
   "metadata": {},
   "outputs": [],
   "source": [
    "import networkx as nx\n",
    "import numpy as np\n",
    "\n",
    "%matplotlib inline"
   ]
  },
  {
   "cell_type": "code",
   "execution_count": 2,
   "metadata": {},
   "outputs": [],
   "source": [
    "def dyn_SIS(g,seed,maxTime,beta,mu): # g=graph, seed=actual node wher you start, maxTime=end of simulation, beta=transmittion rate (time plays role), mu=recovery rate\n",
    "    \n",
    "    susceptible = 0\n",
    "    infected = 1\n",
    "    recovered =  # new need this for SIR -> not sure as the nodes need to be romved\n",
    "    \n",
    "    for i in g.nodes():\n",
    "        g.nodes[i]['state'] = susceptible # make all susceptible\n",
    "    g.nodes[seed]['state'] = infected  # choose node that is infected\n",
    "    \n",
    "    for t in np.arange(maxTime): # loop over time 0-100\n",
    "\n",
    "        for i in g.nodes():\n",
    "            if g.nodes[i]['state'] == infected: # check if infected\n",
    "                for j in g.neighbors(i):\n",
    "                    if g.nodes[j]['state'] == susceptible:\n",
    "                        if np.random.rand() < beta: # take random number and if smaller as beta you infect\n",
    "                            g.nodes[j]['state'] = infected\n",
    "                if np.random.rand() < mu: # this must be changed to recovered!!! somehow remove nodes\n",
    "                    g.nodes[i]['state'] = susceptible\n",
    "                    \n",
    "    inf_list = np.where([g.nodes[i]['state']==infected for i in g.nodes()])[0] # define list of infected nodes\n",
    "    sus_list = np.where([g.nodes[i]['state']==susceptible for i in g.nodes()])[0]\n",
    "    rec_list = np.where([g.nodes[i]['state']==recovered for i in g.nodes()])[0] # new\n",
    "    \n",
    "    return inf_list,sus_list"
   ]
  },
  {
   "cell_type": "code",
   "execution_count": null,
   "metadata": {},
   "outputs": [],
   "source": [
    "# need to calc the len removed nodes (bc of recovered) "
   ]
  },
  {
   "cell_type": "code",
   "execution_count": 3,
   "metadata": {},
   "outputs": [],
   "source": [
    "N=100\n",
    "G = nx.barabasi_albert_graph(N,1)"
   ]
  },
  {
   "cell_type": "code",
   "execution_count": 4,
   "metadata": {},
   "outputs": [
    {
     "data": {
      "text/plain": [
       "array([0. , 0.1, 0.2, 0.3, 0.4, 0.5, 0.6, 0.7, 0.8, 0.9])"
      ]
     },
     "execution_count": 4,
     "metadata": {},
     "output_type": "execute_result"
    }
   ],
   "source": [
    "rangebeta = np.arange(0,1,0.1)\n",
    "rangebeta"
   ]
  },
  {
   "cell_type": "code",
   "execution_count": 5,
   "metadata": {},
   "outputs": [],
   "source": [
    "mu=1.0"
   ]
  },
  {
   "cell_type": "code",
   "execution_count": 6,
   "metadata": {},
   "outputs": [
    {
     "data": {
      "text/plain": [
       "DegreeView({0: 10, 1: 6, 2: 20, 3: 1, 4: 2, 5: 1, 6: 6, 7: 2, 8: 3, 9: 3, 10: 1, 11: 5, 12: 1, 13: 3, 14: 3, 15: 1, 16: 1, 17: 1, 18: 6, 19: 2, 20: 1, 21: 1, 22: 1, 23: 1, 24: 8, 25: 1, 26: 1, 27: 2, 28: 1, 29: 2, 30: 1, 31: 2, 32: 1, 33: 1, 34: 6, 35: 1, 36: 3, 37: 1, 38: 2, 39: 2, 40: 3, 41: 1, 42: 1, 43: 1, 44: 3, 45: 1, 46: 1, 47: 4, 48: 1, 49: 1, 50: 1, 51: 2, 52: 2, 53: 1, 54: 2, 55: 1, 56: 2, 57: 1, 58: 1, 59: 1, 60: 1, 61: 3, 62: 1, 63: 1, 64: 1, 65: 2, 66: 1, 67: 3, 68: 1, 69: 1, 70: 2, 71: 2, 72: 1, 73: 1, 74: 1, 75: 1, 76: 1, 77: 1, 78: 1, 79: 1, 80: 2, 81: 1, 82: 1, 83: 1, 84: 2, 85: 1, 86: 2, 87: 1, 88: 1, 89: 1, 90: 1, 91: 1, 92: 1, 93: 1, 94: 1, 95: 1, 96: 1, 97: 1, 98: 1, 99: 1})"
      ]
     },
     "execution_count": 6,
     "metadata": {},
     "output_type": "execute_result"
    }
   ],
   "source": [
    "G.degree()"
   ]
  },
  {
   "cell_type": "code",
   "execution_count": 10,
   "metadata": {},
   "outputs": [],
   "source": [
    "rho = []\n",
    "for bb in rangebeta:\n",
    "    il,sl = dyn_SIS(G,0,100,bb,mu)\n",
    "    rho.append(float((len(il))/N))\n",
    "    "
   ]
  },
  {
   "cell_type": "code",
   "execution_count": 11,
   "metadata": {},
   "outputs": [
    {
     "data": {
      "text/plain": [
       "[0.0, 0.0, 0.0, 0.0, 0.06, 0.08, 0.17, 0.25, 0.27, 0.31]"
      ]
     },
     "execution_count": 11,
     "metadata": {},
     "output_type": "execute_result"
    }
   ],
   "source": [
    "rho"
   ]
  },
  {
   "cell_type": "code",
   "execution_count": null,
   "metadata": {},
   "outputs": [],
   "source": []
  }
 ],
 "metadata": {
  "kernelspec": {
   "display_name": "Python 3",
   "language": "python",
   "name": "python3"
  },
  "language_info": {
   "codemirror_mode": {
    "name": "ipython",
    "version": 3
   },
   "file_extension": ".py",
   "mimetype": "text/x-python",
   "name": "python",
   "nbconvert_exporter": "python",
   "pygments_lexer": "ipython3",
   "version": "3.8.3"
  }
 },
 "nbformat": 4,
 "nbformat_minor": 2
}
